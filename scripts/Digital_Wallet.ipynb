{
 "cells": [
  {
   "cell_type": "markdown",
   "id": "65f825c2-cae5-4532-8c31-8b0d04f80fec",
   "metadata": {},
   "source": [
    "# 📊 Who Uses Buy Now, Pay Later (BNPL) in the U.S.?\n",
    "**Data Source:** Federal Reserve SHED 2023  \n",
    "**Objective:** Analyze demographic patterns of BNPL usage by age, income, and education using logistic regression.\n"
   ]
  },
  {
   "cell_type": "code",
   "execution_count": 73,
   "id": "85cb8658-f804-47eb-8969-d325731d49f6",
   "metadata": {},
   "outputs": [
    {
     "name": "stdout",
     "output_type": "stream",
     "text": [
      "Requirement already satisfied: pyreadstat in ./anaconda3/lib/python3.11/site-packages (1.2.8)\n",
      "Requirement already satisfied: pandas>=1.2.0 in ./anaconda3/lib/python3.11/site-packages (from pyreadstat) (2.0.3)\n",
      "Requirement already satisfied: python-dateutil>=2.8.2 in ./anaconda3/lib/python3.11/site-packages (from pandas>=1.2.0->pyreadstat) (2.8.2)\n",
      "Requirement already satisfied: pytz>=2020.1 in ./anaconda3/lib/python3.11/site-packages (from pandas>=1.2.0->pyreadstat) (2023.3.post1)\n",
      "Requirement already satisfied: tzdata>=2022.1 in ./anaconda3/lib/python3.11/site-packages (from pandas>=1.2.0->pyreadstat) (2023.3)\n",
      "Requirement already satisfied: numpy>=1.21.0 in ./anaconda3/lib/python3.11/site-packages (from pandas>=1.2.0->pyreadstat) (1.24.3)\n",
      "Requirement already satisfied: six>=1.5 in ./anaconda3/lib/python3.11/site-packages (from python-dateutil>=2.8.2->pandas>=1.2.0->pyreadstat) (1.16.0)\n",
      "Requirement already satisfied: pyreadstat in ./anaconda3/lib/python3.11/site-packages (1.2.8)\n",
      "Requirement already satisfied: pandas in ./anaconda3/lib/python3.11/site-packages (2.0.3)\n",
      "Requirement already satisfied: matplotlib in ./anaconda3/lib/python3.11/site-packages (3.10.0)\n",
      "Requirement already satisfied: seaborn in ./anaconda3/lib/python3.11/site-packages (0.12.2)\n",
      "Requirement already satisfied: python-dateutil>=2.8.2 in ./anaconda3/lib/python3.11/site-packages (from pandas) (2.8.2)\n",
      "Requirement already satisfied: pytz>=2020.1 in ./anaconda3/lib/python3.11/site-packages (from pandas) (2023.3.post1)\n",
      "Requirement already satisfied: tzdata>=2022.1 in ./anaconda3/lib/python3.11/site-packages (from pandas) (2023.3)\n",
      "Requirement already satisfied: numpy>=1.21.0 in ./anaconda3/lib/python3.11/site-packages (from pandas) (1.24.3)\n",
      "Requirement already satisfied: contourpy>=1.0.1 in ./anaconda3/lib/python3.11/site-packages (from matplotlib) (1.0.5)\n",
      "Requirement already satisfied: cycler>=0.10 in ./anaconda3/lib/python3.11/site-packages (from matplotlib) (0.11.0)\n",
      "Requirement already satisfied: fonttools>=4.22.0 in ./anaconda3/lib/python3.11/site-packages (from matplotlib) (4.25.0)\n",
      "Requirement already satisfied: kiwisolver>=1.3.1 in ./anaconda3/lib/python3.11/site-packages (from matplotlib) (1.4.4)\n",
      "Requirement already satisfied: packaging>=20.0 in ./anaconda3/lib/python3.11/site-packages (from matplotlib) (23.1)\n",
      "Requirement already satisfied: pillow>=8 in ./anaconda3/lib/python3.11/site-packages (from matplotlib) (10.0.1)\n",
      "Requirement already satisfied: pyparsing>=2.3.1 in ./anaconda3/lib/python3.11/site-packages (from matplotlib) (3.0.9)\n",
      "Requirement already satisfied: six>=1.5 in ./anaconda3/lib/python3.11/site-packages (from python-dateutil>=2.8.2->pandas) (1.16.0)\n"
     ]
    }
   ],
   "source": [
    "# Loading Packages\n",
    "!pip install pyreadstat\n",
    "!pip install pyreadstat pandas matplotlib seaborn\n",
    "%matplotlib inline\n",
    "#Importing Libraries\n",
    "import pyreadstat\n",
    "import pandas as pd\n",
    "import matplotlib.pyplot as plt\n",
    "import seaborn as sns"
   ]
  },
  {
   "cell_type": "code",
   "execution_count": 46,
   "id": "6af4b091-49f3-4bef-897b-48cde30346aa",
   "metadata": {},
   "outputs": [],
   "source": [
    "#Loading Datasets\n",
    "df, meta = pyreadstat.read_dta(\"Downloads/public2023.dta\")\n",
    "#list(df.columns)\n"
   ]
  },
  {
   "cell_type": "code",
   "execution_count": 131,
   "id": "932b4a40-aaf6-4ccf-97ef-01ad1be567b7",
   "metadata": {},
   "outputs": [],
   "source": [
    "# Map BNPL usage\n",
    "df['used_bnpl'] = df['BNPL1'].map({1: 1, 0: 0})\n",
    "\n",
    "# Map age categories\n",
    "df['age_group'] = df['ppagect4'].map({\n",
    "    1: \"18–29\",\n",
    "    2: \"30–44\",\n",
    "    3: \"45–59\",\n",
    "    4: \"60+\"\n",
    "})\n",
    "\n",
    "# Map income categories\n",
    "df['income_group'] = df['inc_4cat_50k'].map({\n",
    "    1: \"<25K\",\n",
    "    2: \"25–50K\",\n",
    "    3: \"50–100K\",\n",
    "    4: \"100K+\"\n",
    "})\n",
    "\n",
    "# Map education categories\n",
    "df['education'] = df['educ_4cat'].map({\n",
    "    1: \"High School or Less\",\n",
    "    2: \"Some College\",\n",
    "    3: \"Bachelor's\",\n",
    "    4: \"Graduate Degree\"\n",
    "})\n",
    "\n",
    "df.to_csv(\"cleaned_shed_data.csv\", index=False)"
   ]
  },
  {
   "cell_type": "markdown",
   "id": "5c3c06e1-2300-4924-ba5e-c10cfea5361e",
   "metadata": {},
   "source": [
    "# Exploratory Analysis\n",
    "- Dstribution of usage rates\n",
    "- BNPL Usage by Demographics\n",
    "- Cross BNPL use by education & income"
   ]
  },
  {
   "cell_type": "code",
   "execution_count": 80,
   "id": "d8d11d8d-6866-41a2-8d69-28de5761d596",
   "metadata": {},
   "outputs": [
    {
     "data": {
      "text/plain": [
       "used_bnpl\n",
       "0    87.236842\n",
       "1    12.763158\n",
       "Name: proportion, dtype: float64"
      ]
     },
     "execution_count": 80,
     "metadata": {},
     "output_type": "execute_result"
    }
   ],
   "source": [
    "# Distribution of People using Buy Now Pay Later Service\n",
    "df['used_bnpl'].value_counts(normalize=True) * 100"
   ]
  },
  {
   "cell_type": "markdown",
   "id": "a2d815d5-bb55-4ad9-8fed-a41728bc671b",
   "metadata": {},
   "source": [
    "Only ~12.8% of your SHED sample reported using a Buy Now, Pay Later (BNPL) service in the past year"
   ]
  },
  {
   "cell_type": "markdown",
   "id": "af21173e-aaf4-4128-8994-95a34a9be3c7",
   "metadata": {},
   "source": [
    "## USAGE RATES\n",
    "The usage rate tells you the percentage of people in a group who said “yes” to using something — in this case, Buy Now, Pay Later (BNPL) services."
   ]
  },
  {
   "cell_type": "code",
   "execution_count": 95,
   "id": "6d73ef11-90a6-4aec-8e4b-b16b2ffd4a44",
   "metadata": {
    "scrolled": true
   },
   "outputs": [],
   "source": [
    "#Calculate usage rates\n",
    "summary = df.groupby(['age_group', 'income_group', 'education'])['used_bnpl'].mean().reset_index()\n",
    "summary['usage_rate'] = (summary['used_bnpl'] * 100).round(1)\n"
   ]
  },
  {
   "cell_type": "code",
   "execution_count": 97,
   "id": "4fc9ab46-7990-4d5c-aec0-b45449534c1f",
   "metadata": {},
   "outputs": [
    {
     "data": {
      "text/plain": [
       "education\n",
       "Bachelor's             15.856844\n",
       "Graduate Degree        10.379117\n",
       "High School or Less    14.642857\n",
       "Some College           12.128146\n",
       "Name: used_bnpl, dtype: float64"
      ]
     },
     "execution_count": 97,
     "metadata": {},
     "output_type": "execute_result"
    }
   ],
   "source": [
    "# BNPL usage by Demographics\n",
    "df.groupby('age_group')['used_bnpl'].mean() * 100\n",
    "df.groupby('income_group')['used_bnpl'].mean() * 100\n",
    "df.groupby('education')['used_bnpl'].mean() * 100\n"
   ]
  },
  {
   "cell_type": "code",
   "execution_count": 99,
   "id": "0f791067-0614-435d-85bc-104dce8123f7",
   "metadata": {},
   "outputs": [
    {
     "data": {
      "image/png": "[encoded data removed]",
      "text/plain": [
       "<Figure size 640x480 with 1 Axes>"
      ]
     },
     "metadata": {},
     "output_type": "display_data"
    }
   ],
   "source": [
    "sns.barplot(\n",
    "    x=df['education'], \n",
    "    y=df['used_bnpl'], \n",
    "    estimator=np.mean, \n",
    "    order=[\"High School or Less\", \"Some College\", \"Bachelor's\", \"Graduate Degree\"],\n",
    "    errorbar=None  # replaces ci=None\n",
    ")\n",
    "plt.ylabel(\"BNPL Usage Rate (%)\")\n",
    "plt.title(\"BNPL Usage by Education Level\")\n",
    "plt.xticks(rotation=15)\n",
    "plt.tight_layout()\n",
    "plt.show()\n",
    "\n"
   ]
  },
  {
   "cell_type": "markdown",
   "id": "a2f2c992-2b6e-4a07-ab1e-b5f77bac5dfa",
   "metadata": {},
   "source": [
    "### BNPL Usage by Education: A Surprising Gradient\n",
    "\n",
    "People with a **Bachelor’s degree** are the most likely to use Buy Now, Pay Later (BNPL), followed closely by those with **only a high school education**.\n",
    "\n",
    "Surprisingly, **Graduate degree holders** are the least likely to use BNPL.\n",
    "\n",
    "#### Why might this be?\n",
    "\n",
    "- **Bachelor’s graduates** may:\n",
    "  - Be more exposed to e-commerce and digital financial tools\n",
    "  - Have greater lifestyle expenses\n",
    "  - Feel more financially autonomous\n",
    "\n",
    "- **Graduate degree holders** might:\n",
    "  - Have more stable income\n",
    "  - Prefer traditional credit options\n",
    "  - Be more risk-averse\n",
    "\n",
    "- The **Some College** group often falls in between — navigating between financial empowerment and fragility — and may access BNPL cautiously.\n"
   ]
  },
  {
   "cell_type": "code",
   "execution_count": 102,
   "id": "9db9d97a-9712-44ba-a5ed-316fa935d273",
   "metadata": {},
   "outputs": [
    {
     "data": {
      "application/vnd.plotly.v1+json": {
       "config": {
        "plotlyServerURL": "https://plot.ly"
       },
       "data": [
        {
         "alignmentgroup": "True",
         "hovertemplate": "age_group=18–29<br>education=Bachelor's<br>income_group=%{x}<br>usage_rate=%{y}<extra></extra>",
         "legendgroup": "18–29",
         "marker": {
          "color": "#636efa",
          "pattern": {
           "shape": ""
          }
         },
         "name": "18–29",
         "offsetgroup": "18–29",
         "orientation": "v",
         "showlegend": true,
         "textposition": "auto",
         "type": "bar",
         "x": [
          "100K+",
          "25–50K",
          "50–100K",
          "<25K"
         ],
         "xaxis": "x",
         "y": [
          19.2,
          28.3,
          24.8,
          15.3
         ],
         "yaxis": "y"
        },
        {
         "alignmentgroup": "True",
         "hovertemplate": "age_group=18–29<br>education=Graduate Degree<br>income_group=%{x}<br>usage_rate=%{y}<extra></extra>",
         "legendgroup": "18–29",
         "marker": {
          "color": "#636efa",
          "pattern": {
           "shape": ""
          }
         },
         "name": "18–29",
         "offsetgroup": "18–29",
         "orientation": "v",
         "showlegend": false,
         "textposition": "auto",
         "type": "bar",
         "x": [
          "100K+",
          "25–50K",
          "50–100K",
          "<25K"
         ],
         "xaxis": "x2",
         "y": [
          13.5,
          12.2,
          14.7,
          11.5
         ],
         "yaxis": "y2"
        },
        {
         "alignmentgroup": "True",
         "hovertemplate": "age_group=18–29<br>education=Some College<br>income_group=%{x}<br>usage_rate=%{y}<extra></extra>",
         "legendgroup": "18–29",
         "marker": {
          "color": "#636efa",
          "pattern": {
           "shape": ""
          }
         },
         "name": "18–29",
         "offsetgroup": "18–29",
         "orientation": "v",
         "showlegend": false,
         "textposition": "auto",
         "type": "bar",
         "x": [
          "100K+",
          "25–50K",
          "50–100K",
          "<25K"
         ],
         "xaxis": "x3",
         "y": [
          25,
          25.4,
          17,
          13.7
         ],
         "yaxis": "y3"
        },
        {
         "alignmentgroup": "True",
         "hovertemplate": "age_group=18–29<br>education=High School or Less<br>income_group=%{x}<br>usage_rate=%{y}<extra></extra>",
         "legendgroup": "18–29",
         "marker": {
          "color": "#636efa",
          "pattern": {
           "shape": ""
          }
         },
         "name": "18–29",
         "offsetgroup": "18–29",
         "orientation": "v",
         "showlegend": false,
         "textposition": "auto",
         "type": "bar",
         "x": [
          "25–50K",
          "50–100K",
          "<25K"
         ],
         "xaxis": "x4",
         "y": [
          12.5,
          20,
          10
         ],
         "yaxis": "y4"
        },
        {
         "alignmentgroup": "True",
         "hovertemplate": "age_group=30–44<br>education=Bachelor's<br>income_group=%{x}<br>usage_rate=%{y}<extra></extra>",
         "legendgroup": "30–44",
         "marker": {
          "color": "#EF553B",
          "pattern": {
           "shape": ""
          }
         },
         "name": "30–44",
         "offsetgroup": "30–44",
         "orientation": "v",
         "showlegend": true,
         "textposition": "auto",
         "type": "bar",
         "x": [
          "100K+",
          "25–50K",
          "50–100K",
          "<25K"
         ],
         "xaxis": "x",
         "y": [
          14.1,
          26.3,
          23.7,
          18.7
         ],
         "yaxis": "y"
        },
        {
         "alignmentgroup": "True",
         "hovertemplate": "age_group=30–44<br>education=Graduate Degree<br>income_group=%{x}<br>usage_rate=%{y}<extra></extra>",
         "legendgroup": "30–44",
         "marker": {
          "color": "#EF553B",
          "pattern": {
           "shape": ""
          }
         },
         "name": "30–44",
         "offsetgroup": "30–44",
         "orientation": "v",
         "showlegend": false,
         "textposition": "auto",
         "type": "bar",
         "x": [
          "100K+",
          "25–50K",
          "50–100K",
          "<25K"
         ],
         "xaxis": "x2",
         "y": [
          10.7,
          29.3,
          15.1,
          7.3
         ],
         "yaxis": "y2"
        },
        {
         "alignmentgroup": "True",
         "hovertemplate": "age_group=30–44<br>education=Some College<br>income_group=%{x}<br>usage_rate=%{y}<extra></extra>",
         "legendgroup": "30–44",
         "marker": {
          "color": "#EF553B",
          "pattern": {
           "shape": ""
          }
         },
         "name": "30–44",
         "offsetgroup": "30–44",
         "orientation": "v",
         "showlegend": false,
         "textposition": "auto",
         "type": "bar",
         "x": [
          "100K+",
          "25–50K",
          "50–100K",
          "<25K"
         ],
         "xaxis": "x3",
         "y": [
          20.9,
          20.8,
          17.1,
          15.6
         ],
         "yaxis": "y3"
        },
        {
         "alignmentgroup": "True",
         "hovertemplate": "age_group=30–44<br>education=High School or Less<br>income_group=%{x}<br>usage_rate=%{y}<extra></extra>",
         "legendgroup": "30–44",
         "marker": {
          "color": "#EF553B",
          "pattern": {
           "shape": ""
          }
         },
         "name": "30–44",
         "offsetgroup": "30–44",
         "orientation": "v",
         "showlegend": false,
         "textposition": "auto",
         "type": "bar",
         "x": [
          "100K+",
          "25–50K",
          "50–100K",
          "<25K"
         ],
         "xaxis": "x4",
         "y": [
          12.5,
          31.4,
          37.9,
          12.4
         ],
         "yaxis": "y4"
        },
        {
         "alignmentgroup": "True",
         "hovertemplate": "age_group=45–59<br>education=Bachelor's<br>income_group=%{x}<br>usage_rate=%{y}<extra></extra>",
         "legendgroup": "45–59",
         "marker": {
          "color": "#00cc96",
          "pattern": {
           "shape": ""
          }
         },
         "name": "45–59",
         "offsetgroup": "45–59",
         "orientation": "v",
         "showlegend": true,
         "textposition": "auto",
         "type": "bar",
         "x": [
          "100K+",
          "25–50K",
          "50–100K",
          "<25K"
         ],
         "xaxis": "x",
         "y": [
          15.2,
          23.6,
          20.3,
          21.2
         ],
         "yaxis": "y"
        },
        {
         "alignmentgroup": "True",
         "hovertemplate": "age_group=45–59<br>education=Graduate Degree<br>income_group=%{x}<br>usage_rate=%{y}<extra></extra>",
         "legendgroup": "45–59",
         "marker": {
          "color": "#00cc96",
          "pattern": {
           "shape": ""
          }
         },
         "name": "45–59",
         "offsetgroup": "45–59",
         "orientation": "v",
         "showlegend": false,
         "textposition": "auto",
         "type": "bar",
         "x": [
          "100K+",
          "25–50K",
          "50–100K",
          "<25K"
         ],
         "xaxis": "x2",
         "y": [
          9.5,
          19.7,
          24.4,
          7.7
         ],
         "yaxis": "y2"
        },
        {
         "alignmentgroup": "True",
         "hovertemplate": "age_group=45–59<br>education=Some College<br>income_group=%{x}<br>usage_rate=%{y}<extra></extra>",
         "legendgroup": "45–59",
         "marker": {
          "color": "#00cc96",
          "pattern": {
           "shape": ""
          }
         },
         "name": "45–59",
         "offsetgroup": "45–59",
         "orientation": "v",
         "showlegend": false,
         "textposition": "auto",
         "type": "bar",
         "x": [
          "100K+",
          "25–50K",
          "50–100K",
          "<25K"
         ],
         "xaxis": "x3",
         "y": [
          6.8,
          14.6,
          9.8,
          13.5
         ],
         "yaxis": "y3"
        },
        {
         "alignmentgroup": "True",
         "hovertemplate": "age_group=45–59<br>education=High School or Less<br>income_group=%{x}<br>usage_rate=%{y}<extra></extra>",
         "legendgroup": "45–59",
         "marker": {
          "color": "#00cc96",
          "pattern": {
           "shape": ""
          }
         },
         "name": "45–59",
         "offsetgroup": "45–59",
         "orientation": "v",
         "showlegend": false,
         "textposition": "auto",
         "type": "bar",
         "x": [
          "100K+",
          "25–50K",
          "50–100K",
          "<25K"
         ],
         "xaxis": "x4",
         "y": [
          25,
          13,
          0,
          18.9
         ],
         "yaxis": "y4"
        },
        {
         "alignmentgroup": "True",
         "hovertemplate": "age_group=60+<br>education=Bachelor's<br>income_group=%{x}<br>usage_rate=%{y}<extra></extra>",
         "legendgroup": "60+",
         "marker": {
          "color": "#ab63fa",
          "pattern": {
           "shape": ""
          }
         },
         "name": "60+",
         "offsetgroup": "60+",
         "orientation": "v",
         "showlegend": true,
         "textposition": "auto",
         "type": "bar",
         "x": [
          "100K+",
          "25–50K",
          "50–100K",
          "<25K"
         ],
         "xaxis": "x",
         "y": [
          8.1,
          11.2,
          8.7,
          9.1
         ],
         "yaxis": "y"
        },
        {
         "alignmentgroup": "True",
         "hovertemplate": "age_group=60+<br>education=Graduate Degree<br>income_group=%{x}<br>usage_rate=%{y}<extra></extra>",
         "legendgroup": "60+",
         "marker": {
          "color": "#ab63fa",
          "pattern": {
           "shape": ""
          }
         },
         "name": "60+",
         "offsetgroup": "60+",
         "orientation": "v",
         "showlegend": false,
         "textposition": "auto",
         "type": "bar",
         "x": [
          "100K+",
          "25–50K",
          "50–100K",
          "<25K"
         ],
         "xaxis": "x2",
         "y": [
          5.4,
          6.2,
          7.2,
          2.8
         ],
         "yaxis": "y2"
        },
        {
         "alignmentgroup": "True",
         "hovertemplate": "age_group=60+<br>education=Some College<br>income_group=%{x}<br>usage_rate=%{y}<extra></extra>",
         "legendgroup": "60+",
         "marker": {
          "color": "#ab63fa",
          "pattern": {
           "shape": ""
          }
         },
         "name": "60+",
         "offsetgroup": "60+",
         "orientation": "v",
         "showlegend": false,
         "textposition": "auto",
         "type": "bar",
         "x": [
          "100K+",
          "25–50K",
          "50–100K",
          "<25K"
         ],
         "xaxis": "x3",
         "y": [
          11.2,
          8,
          6.3,
          11.7
         ],
         "yaxis": "y3"
        },
        {
         "alignmentgroup": "True",
         "hovertemplate": "age_group=60+<br>education=High School or Less<br>income_group=%{x}<br>usage_rate=%{y}<extra></extra>",
         "legendgroup": "60+",
         "marker": {
          "color": "#ab63fa",
          "pattern": {
           "shape": ""
          }
         },
         "name": "60+",
         "offsetgroup": "60+",
         "orientation": "v",
         "showlegend": false,
         "textposition": "auto",
         "type": "bar",
         "x": [
          "100K+",
          "25–50K",
          "50–100K",
          "<25K"
         ],
         "xaxis": "x4",
         "y": [
          0,
          8.8,
          12.8,
          11.4
         ],
         "yaxis": "y4"
        }
       ],
       "layout": {
        "annotations": [
         {
          "font": {},
          "showarrow": false,
          "text": "education=Bachelor's",
          "x": 0.1175,
          "xanchor": "center",
          "xref": "paper",
          "y": 1,
          "yanchor": "bottom",
          "yref": "paper"
         },
         {
          "font": {},
          "showarrow": false,
          "text": "education=Graduate Degree",
          "x": 0.3725,
          "xanchor": "center",
          "xref": "paper",
          "y": 1,
          "yanchor": "bottom",
          "yref": "paper"
         },
         {
          "font": {},
          "showarrow": false,
          "text": "education=Some College",
          "x": 0.6275,
          "xanchor": "center",
          "xref": "paper",
          "y": 1,
          "yanchor": "bottom",
          "yref": "paper"
         },
         {
          "font": {},
          "showarrow": false,
          "text": "education=High School or Less",
          "x": 0.8824999999999998,
          "xanchor": "center",
          "xref": "paper",
          "y": 1,
          "yanchor": "bottom",
          "yref": "paper"
         }
        ],
        "autosize": true,
        "barmode": "group",
        "legend": {
         "title": {
          "text": "age_group"
         },
         "tracegroupgap": 0
        },
        "template": {
         "data": {
          "bar": [
           {
            "error_x": {
             "color": "#2a3f5f"
            },
            "error_y": {
             "color": "#2a3f5f"
            },
            "marker": {
             "line": {
              "color": "#E5ECF6",
              "width": 0.5
             },
             "pattern": {
              "fillmode": "overlay",
              "size": 10,
              "solidity": 0.2
             }
            },
            "type": "bar"
           }
          ],
          "barpolar": [
           {
            "marker": {
             "line": {
              "color": "#E5ECF6",
              "width": 0.5
             },
             "pattern": {
              "fillmode": "overlay",
              "size": 10,
              "solidity": 0.2
             }
            },
            "type": "barpolar"
           }
          ],
          "carpet": [
           {
            "aaxis": {
             "endlinecolor": "#2a3f5f",
             "gridcolor": "white",
             "linecolor": "white",
             "minorgridcolor": "white",
             "startlinecolor": "#2a3f5f"
            },
            "baxis": {
             "endlinecolor": "#2a3f5f",
             "gridcolor": "white",
             "linecolor": "white",
             "minorgridcolor": "white",
             "startlinecolor": "#2a3f5f"
            },
            "type": "carpet"
           }
          ],
          "choropleth": [
           {
            "colorbar": {
             "outlinewidth": 0,
             "ticks": ""
            },
            "type": "choropleth"
           }
          ],
          "contour": [
           {
            "colorbar": {
             "outlinewidth": 0,
             "ticks": ""
            },
            "colorscale": [
             [
              0,
              "#0d0887"
             ],
             [
              0.1111111111111111,
              "#46039f"
             ],
             [
              0.2222222222222222,
              "#7201a8"
             ],
             [
              0.3333333333333333,
              "#9c179e"
             ],
             [
              0.4444444444444444,
              "#bd3786"
             ],
             [
              0.5555555555555556,
              "#d8576b"
             ],
             [
              0.6666666666666666,
              "#ed7953"
             ],
             [
              0.7777777777777778,
              "#fb9f3a"
             ],
             [
              0.8888888888888888,
              "#fdca26"
             ],
             [
              1,
              "#f0f921"
             ]
            ],
            "type": "contour"
           }
          ],
          "contourcarpet": [
           {
            "colorbar": {
             "outlinewidth": 0,
             "ticks": ""
            },
            "type": "contourcarpet"
           }
          ],
          "heatmap": [
           {
            "colorbar": {
             "outlinewidth": 0,
             "ticks": ""
            },
            "colorscale": [
             [
              0,
              "#0d0887"
             ],
             [
              0.1111111111111111,
              "#46039f"
             ],
             [
              0.2222222222222222,
              "#7201a8"
             ],
             [
              0.3333333333333333,
              "#9c179e"
             ],
             [
              0.4444444444444444,
              "#bd3786"
             ],
             [
              0.5555555555555556,
              "#d8576b"
             ],
             [
              0.6666666666666666,
              "#ed7953"
             ],
             [
              0.7777777777777778,
              "#fb9f3a"
             ],
             [
              0.8888888888888888,
              "#fdca26"
             ],
             [
              1,
              "#f0f921"
             ]
            ],
            "type": "heatmap"
           }
          ],
          "heatmapgl": [
           {
            "colorbar": {
             "outlinewidth": 0,
             "ticks": ""
            },
            "colorscale": [
             [
              0,
              "#0d0887"
             ],
             [
              0.1111111111111111,
              "#46039f"
             ],
             [
              0.2222222222222222,
              "#7201a8"
             ],
             [
              0.3333333333333333,
              "#9c179e"
             ],
             [
              0.4444444444444444,
              "#bd3786"
             ],
             [
              0.5555555555555556,
              "#d8576b"
             ],
             [
              0.6666666666666666,
              "#ed7953"
             ],
             [
              0.7777777777777778,
              "#fb9f3a"
             ],
             [
              0.8888888888888888,
              "#fdca26"
             ],
             [
              1,
              "#f0f921"
             ]
            ],
            "type": "heatmapgl"
           }
          ],
          "histogram": [
           {
            "marker": {
             "pattern": {
              "fillmode": "overlay",
              "size": 10,
              "solidity": 0.2
             }
            },
            "type": "histogram"
           }
          ],
          "histogram2d": [
           {
            "colorbar": {
             "outlinewidth": 0,
             "ticks": ""
            },
            "colorscale": [
             [
              0,
              "#0d0887"
             ],
             [
              0.1111111111111111,
              "#46039f"
             ],
             [
              0.2222222222222222,
              "#7201a8"
             ],
             [
              0.3333333333333333,
              "#9c179e"
             ],
             [
              0.4444444444444444,
              "#bd3786"
             ],
             [
              0.5555555555555556,
              "#d8576b"
             ],
             [
              0.6666666666666666,
              "#ed7953"
             ],
             [
              0.7777777777777778,
              "#fb9f3a"
             ],
             [
              0.8888888888888888,
              "#fdca26"
             ],
             [
              1,
              "#f0f921"
             ]
            ],
            "type": "histogram2d"
           }
          ],
          "histogram2dcontour": [
           {
            "colorbar": {
             "outlinewidth": 0,
             "ticks": ""
            },
            "colorscale": [
             [
              0,
              "#0d0887"
             ],
             [
              0.1111111111111111,
              "#46039f"
             ],
             [
              0.2222222222222222,
              "#7201a8"
             ],
             [
              0.3333333333333333,
              "#9c179e"
             ],
             [
              0.4444444444444444,
              "#bd3786"
             ],
             [
              0.5555555555555556,
              "#d8576b"
             ],
             [
              0.6666666666666666,
              "#ed7953"
             ],
             [
              0.7777777777777778,
              "#fb9f3a"
             ],
             [
              0.8888888888888888,
              "#fdca26"
             ],
             [
              1,
              "#f0f921"
             ]
            ],
            "type": "histogram2dcontour"
           }
          ],
          "mesh3d": [
           {
            "colorbar": {
             "outlinewidth": 0,
             "ticks": ""
            },
            "type": "mesh3d"
           }
          ],
          "parcoords": [
           {
            "line": {
             "colorbar": {
              "outlinewidth": 0,
              "ticks": ""
             }
            },
            "type": "parcoords"
           }
          ],
          "pie": [
           {
            "automargin": true,
            "type": "pie"
           }
          ],
          "scatter": [
           {
            "fillpattern": {
             "fillmode": "overlay",
             "size": 10,
             "solidity": 0.2
            },
            "type": "scatter"
           }
          ],
          "scatter3d": [
           {
            "line": {
             "colorbar": {
              "outlinewidth": 0,
              "ticks": ""
             }
            },
            "marker": {
             "colorbar": {
              "outlinewidth": 0,
              "ticks": ""
             }
            },
            "type": "scatter3d"
           }
          ],
          "scattercarpet": [
           {
            "marker": {
             "colorbar": {
              "outlinewidth": 0,
              "ticks": ""
             }
            },
            "type": "scattercarpet"
           }
          ],
          "scattergeo": [
           {
            "marker": {
             "colorbar": {
              "outlinewidth": 0,
              "ticks": ""
             }
            },
            "type": "scattergeo"
           }
          ],
          "scattergl": [
           {
            "marker": {
             "colorbar": {
              "outlinewidth": 0,
              "ticks": ""
             }
            },
            "type": "scattergl"
           }
          ],
          "scattermapbox": [
           {
            "marker": {
             "colorbar": {
              "outlinewidth": 0,
              "ticks": ""
             }
            },
            "type": "scattermapbox"
           }
          ],
          "scatterpolar": [
           {
            "marker": {
             "colorbar": {
              "outlinewidth": 0,
              "ticks": ""
             }
            },
            "type": "scatterpolar"
           }
          ],
          "scatterpolargl": [
           {
            "marker": {
             "colorbar": {
              "outlinewidth": 0,
              "ticks": ""
             }
            },
            "type": "scatterpolargl"
           }
          ],
          "scatterternary": [
           {
            "marker": {
             "colorbar": {
              "outlinewidth": 0,
              "ticks": ""
             }
            },
            "type": "scatterternary"
           }
          ],
          "surface": [
           {
            "colorbar": {
             "outlinewidth": 0,
             "ticks": ""
            },
            "colorscale": [
             [
              0,
              "#0d0887"
             ],
             [
              0.1111111111111111,
              "#46039f"
             ],
             [
              0.2222222222222222,
              "#7201a8"
             ],
             [
              0.3333333333333333,
              "#9c179e"
             ],
             [
              0.4444444444444444,
              "#bd3786"
             ],
             [
              0.5555555555555556,
              "#d8576b"
             ],
             [
              0.6666666666666666,
              "#ed7953"
             ],
             [
              0.7777777777777778,
              "#fb9f3a"
             ],
             [
              0.8888888888888888,
              "#fdca26"
             ],
             [
              1,
              "#f0f921"
             ]
            ],
            "type": "surface"
           }
          ],
          "table": [
           {
            "cells": {
             "fill": {
              "color": "#EBF0F8"
             },
             "line": {
              "color": "white"
             }
            },
            "header": {
             "fill": {
              "color": "#C8D4E3"
             },
             "line": {
              "color": "white"
             }
            },
            "type": "table"
           }
          ]
         },
         "layout": {
          "annotationdefaults": {
           "arrowcolor": "#2a3f5f",
           "arrowhead": 0,
           "arrowwidth": 1
          },
          "autotypenumbers": "strict",
          "coloraxis": {
           "colorbar": {
            "outlinewidth": 0,
            "ticks": ""
           }
          },
          "colorscale": {
           "diverging": [
            [
             0,
             "#8e0152"
            ],
            [
             0.1,
             "#c51b7d"
            ],
            [
             0.2,
             "#de77ae"
            ],
            [
             0.3,
             "#f1b6da"
            ],
            [
             0.4,
             "#fde0ef"
            ],
            [
             0.5,
             "#f7f7f7"
            ],
            [
             0.6,
             "#e6f5d0"
            ],
            [
             0.7,
             "#b8e186"
            ],
            [
             0.8,
             "#7fbc41"
            ],
            [
             0.9,
             "#4d9221"
            ],
            [
             1,
             "#276419"
            ]
           ],
           "sequential": [
            [
             0,
             "#0d0887"
            ],
            [
             0.1111111111111111,
             "#46039f"
            ],
            [
             0.2222222222222222,
             "#7201a8"
            ],
            [
             0.3333333333333333,
             "#9c179e"
            ],
            [
             0.4444444444444444,
             "#bd3786"
            ],
            [
             0.5555555555555556,
             "#d8576b"
            ],
            [
             0.6666666666666666,
             "#ed7953"
            ],
            [
             0.7777777777777778,
             "#fb9f3a"
            ],
            [
             0.8888888888888888,
             "#fdca26"
            ],
            [
             1,
             "#f0f921"
            ]
           ],
           "sequentialminus": [
            [
             0,
             "#0d0887"
            ],
            [
             0.1111111111111111,
             "#46039f"
            ],
            [
             0.2222222222222222,
             "#7201a8"
            ],
            [
             0.3333333333333333,
             "#9c179e"
            ],
            [
             0.4444444444444444,
             "#bd3786"
            ],
            [
             0.5555555555555556,
             "#d8576b"
            ],
            [
             0.6666666666666666,
             "#ed7953"
            ],
            [
             0.7777777777777778,
             "#fb9f3a"
            ],
            [
             0.8888888888888888,
             "#fdca26"
            ],
            [
             1,
             "#f0f921"
            ]
           ]
          },
          "colorway": [
           "#636efa",
           "#EF553B",
           "#00cc96",
           "#ab63fa",
           "#FFA15A",
           "#19d3f3",
           "#FF6692",
           "#B6E880",
           "#FF97FF",
           "#FECB52"
          ],
          "font": {
           "color": "#2a3f5f"
          },
          "geo": {
           "bgcolor": "white",
           "lakecolor": "white",
           "landcolor": "#E5ECF6",
           "showlakes": true,
           "showland": true,
           "subunitcolor": "white"
          },
          "hoverlabel": {
           "align": "left"
          },
          "hovermode": "closest",
          "mapbox": {
           "style": "light"
          },
          "paper_bgcolor": "white",
          "plot_bgcolor": "#E5ECF6",
          "polar": {
           "angularaxis": {
            "gridcolor": "white",
            "linecolor": "white",
            "ticks": ""
           },
           "bgcolor": "#E5ECF6",
           "radialaxis": {
            "gridcolor": "white",
            "linecolor": "white",
            "ticks": ""
           }
          },
          "scene": {
           "xaxis": {
            "backgroundcolor": "#E5ECF6",
            "gridcolor": "white",
            "gridwidth": 2,
            "linecolor": "white",
            "showbackground": true,
            "ticks": "",
            "zerolinecolor": "white"
           },
           "yaxis": {
            "backgroundcolor": "#E5ECF6",
            "gridcolor": "white",
            "gridwidth": 2,
            "linecolor": "white",
            "showbackground": true,
            "ticks": "",
            "zerolinecolor": "white"
           },
           "zaxis": {
            "backgroundcolor": "#E5ECF6",
            "gridcolor": "white",
            "gridwidth": 2,
            "linecolor": "white",
            "showbackground": true,
            "ticks": "",
            "zerolinecolor": "white"
           }
          },
          "shapedefaults": {
           "line": {
            "color": "#2a3f5f"
           }
          },
          "ternary": {
           "aaxis": {
            "gridcolor": "white",
            "linecolor": "white",
            "ticks": ""
           },
           "baxis": {
            "gridcolor": "white",
            "linecolor": "white",
            "ticks": ""
           },
           "bgcolor": "#E5ECF6",
           "caxis": {
            "gridcolor": "white",
            "linecolor": "white",
            "ticks": ""
           }
          },
          "title": {
           "x": 0.05
          },
          "xaxis": {
           "automargin": true,
           "gridcolor": "white",
           "linecolor": "white",
           "ticks": "",
           "title": {
            "standoff": 15
           },
           "zerolinecolor": "white",
           "zerolinewidth": 2
          },
          "yaxis": {
           "automargin": true,
           "gridcolor": "white",
           "linecolor": "white",
           "ticks": "",
           "title": {
            "standoff": 15
           },
           "zerolinecolor": "white",
           "zerolinewidth": 2
          }
         }
        },
        "title": {
         "text": "BNPL Usage by Age, Income, and Education"
        },
        "xaxis": {
         "anchor": "y",
         "autorange": true,
         "domain": [
          0,
          0.235
         ],
         "range": [
          -0.5,
          3.5
         ],
         "title": {
          "text": "income_group"
         },
         "type": "category"
        },
        "xaxis2": {
         "anchor": "y2",
         "autorange": true,
         "domain": [
          0.255,
          0.49
         ],
         "matches": "x",
         "range": [
          -0.5,
          3.5
         ],
         "title": {
          "text": "income_group"
         },
         "type": "category"
        },
        "xaxis3": {
         "anchor": "y3",
         "autorange": true,
         "domain": [
          0.51,
          0.745
         ],
         "matches": "x",
         "range": [
          -0.5,
          3.5
         ],
         "title": {
          "text": "income_group"
         },
         "type": "category"
        },
        "xaxis4": {
         "anchor": "y4",
         "autorange": true,
         "domain": [
          0.7649999999999999,
          0.9999999999999999
         ],
         "matches": "x",
         "range": [
          -0.5,
          3.5
         ],
         "title": {
          "text": "income_group"
         },
         "type": "category"
        },
        "yaxis": {
         "anchor": "x",
         "autorange": true,
         "domain": [
          0,
          1
         ],
         "range": [
          0,
          39.89473684210526
         ],
         "title": {
          "text": "usage_rate"
         },
         "type": "linear"
        },
        "yaxis2": {
         "anchor": "x2",
         "autorange": true,
         "domain": [
          0,
          1
         ],
         "matches": "y",
         "range": [
          0,
          39.89473684210526
         ],
         "showticklabels": false,
         "type": "linear"
        },
        "yaxis3": {
         "anchor": "x3",
         "autorange": true,
         "domain": [
          0,
          1
         ],
         "matches": "y",
         "range": [
          0,
          39.89473684210526
         ],
         "showticklabels": false,
         "type": "linear"
        },
        "yaxis4": {
         "anchor": "x4",
         "autorange": true,
         "domain": [
          0,
          1
         ],
         "matches": "y",
         "range": [
          0,
          39.89473684210526
         ],
         "showticklabels": false,
         "type": "linear"
        }
       }
      },
      "image/png": "[encoded data removed]",
      "text/html": [
       "<div>                            <div id=\"85555ccc-68bc-4201-9ea3-e2efcfc6b552\" class=\"plotly-graph-div\" style=\"height:525px; width:100%;\"></div>            <script type=\"text/javascript\">                require([\"plotly\"], function(Plotly) {                    window.PLOTLYENV=window.PLOTLYENV || {};                                    if (document.getElementById(\"85555ccc-68bc-4201-9ea3-e2efcfc6b552\")) {                    Plotly.newPlot(                        \"85555ccc-68bc-4201-9ea3-e2efcfc6b552\",                        [{\"alignmentgroup\":\"True\",\"hovertemplate\":\"age_group=18\\u201329<br>education=Bachelor's<br>income_group=%{x}<br>usage_rate=%{y}<extra></extra>\",\"legendgroup\":\"18\\u201329\",\"marker\":{\"color\":\"#636efa\",\"pattern\":{\"shape\":\"\"}},\"name\":\"18\\u201329\",\"offsetgroup\":\"18\\u201329\",\"orientation\":\"v\",\"showlegend\":true,\"textposition\":\"auto\",\"x\":[\"100K+\",\"25\\u201350K\",\"50\\u2013100K\",\"<25K\"],\"xaxis\":\"x\",\"y\":[19.2,28.3,24.8,15.3],\"yaxis\":\"y\",\"type\":\"bar\"},{\"alignmentgroup\":\"True\",\"hovertemplate\":\"age_group=18\\u201329<br>education=Graduate Degree<br>income_group=%{x}<br>usage_rate=%{y}<extra></extra>\",\"legendgroup\":\"18\\u201329\",\"marker\":{\"color\":\"#636efa\",\"pattern\":{\"shape\":\"\"}},\"name\":\"18\\u201329\",\"offsetgroup\":\"18\\u201329\",\"orientation\":\"v\",\"showlegend\":false,\"textposition\":\"auto\",\"x\":[\"100K+\",\"25\\u201350K\",\"50\\u2013100K\",\"<25K\"],\"xaxis\":\"x2\",\"y\":[13.5,12.2,14.7,11.5],\"yaxis\":\"y2\",\"type\":\"bar\"},{\"alignmentgroup\":\"True\",\"hovertemplate\":\"age_group=18\\u201329<br>education=Some College<br>income_group=%{x}<br>usage_rate=%{y}<extra></extra>\",\"legendgroup\":\"18\\u201329\",\"marker\":{\"color\":\"#636efa\",\"pattern\":{\"shape\":\"\"}},\"name\":\"18\\u201329\",\"offsetgroup\":\"18\\u201329\",\"orientation\":\"v\",\"showlegend\":false,\"textposition\":\"auto\",\"x\":[\"100K+\",\"25\\u201350K\",\"50\\u2013100K\",\"<25K\"],\"xaxis\":\"x3\",\"y\":[25.0,25.4,17.0,13.7],\"yaxis\":\"y3\",\"type\":\"bar\"},{\"alignmentgroup\":\"True\",\"hovertemplate\":\"age_group=18\\u201329<br>education=High School or Less<br>income_group=%{x}<br>usage_rate=%{y}<extra></extra>\",\"legendgroup\":\"18\\u201329\",\"marker\":{\"color\":\"#636efa\",\"pattern\":{\"shape\":\"\"}},\"name\":\"18\\u201329\",\"offsetgroup\":\"18\\u201329\",\"orientation\":\"v\",\"showlegend\":false,\"textposition\":\"auto\",\"x\":[\"25\\u201350K\",\"50\\u2013100K\",\"<25K\"],\"xaxis\":\"x4\",\"y\":[12.5,20.0,10.0],\"yaxis\":\"y4\",\"type\":\"bar\"},{\"alignmentgroup\":\"True\",\"hovertemplate\":\"age_group=30\\u201344<br>education=Bachelor's<br>income_group=%{x}<br>usage_rate=%{y}<extra></extra>\",\"legendgroup\":\"30\\u201344\",\"marker\":{\"color\":\"#EF553B\",\"pattern\":{\"shape\":\"\"}},\"name\":\"30\\u201344\",\"offsetgroup\":\"30\\u201344\",\"orientation\":\"v\",\"showlegend\":true,\"textposition\":\"auto\",\"x\":[\"100K+\",\"25\\u201350K\",\"50\\u2013100K\",\"<25K\"],\"xaxis\":\"x\",\"y\":[14.1,26.3,23.7,18.7],\"yaxis\":\"y\",\"type\":\"bar\"},{\"alignmentgroup\":\"True\",\"hovertemplate\":\"age_group=30\\u201344<br>education=Graduate Degree<br>income_group=%{x}<br>usage_rate=%{y}<extra></extra>\",\"legendgroup\":\"30\\u201344\",\"marker\":{\"color\":\"#EF553B\",\"pattern\":{\"shape\":\"\"}},\"name\":\"30\\u201344\",\"offsetgroup\":\"30\\u201344\",\"orientation\":\"v\",\"showlegend\":false,\"textposition\":\"auto\",\"x\":[\"100K+\",\"25\\u201350K\",\"50\\u2013100K\",\"<25K\"],\"xaxis\":\"x2\",\"y\":[10.7,29.3,15.1,7.3],\"yaxis\":\"y2\",\"type\":\"bar\"},{\"alignmentgroup\":\"True\",\"hovertemplate\":\"age_group=30\\u201344<br>education=Some College<br>income_group=%{x}<br>usage_rate=%{y}<extra></extra>\",\"legendgroup\":\"30\\u201344\",\"marker\":{\"color\":\"#EF553B\",\"pattern\":{\"shape\":\"\"}},\"name\":\"30\\u201344\",\"offsetgroup\":\"30\\u201344\",\"orientation\":\"v\",\"showlegend\":false,\"textposition\":\"auto\",\"x\":[\"100K+\",\"25\\u201350K\",\"50\\u2013100K\",\"<25K\"],\"xaxis\":\"x3\",\"y\":[20.9,20.8,17.1,15.6],\"yaxis\":\"y3\",\"type\":\"bar\"},{\"alignmentgroup\":\"True\",\"hovertemplate\":\"age_group=30\\u201344<br>education=High School or Less<br>income_group=%{x}<br>usage_rate=%{y}<extra></extra>\",\"legendgroup\":\"30\\u201344\",\"marker\":{\"color\":\"#EF553B\",\"pattern\":{\"shape\":\"\"}},\"name\":\"30\\u201344\",\"offsetgroup\":\"30\\u201344\",\"orientation\":\"v\",\"showlegend\":false,\"textposition\":\"auto\",\"x\":[\"100K+\",\"25\\u201350K\",\"50\\u2013100K\",\"<25K\"],\"xaxis\":\"x4\",\"y\":[12.5,31.4,37.9,12.4],\"yaxis\":\"y4\",\"type\":\"bar\"},{\"alignmentgroup\":\"True\",\"hovertemplate\":\"age_group=45\\u201359<br>education=Bachelor's<br>income_group=%{x}<br>usage_rate=%{y}<extra></extra>\",\"legendgroup\":\"45\\u201359\",\"marker\":{\"color\":\"#00cc96\",\"pattern\":{\"shape\":\"\"}},\"name\":\"45\\u201359\",\"offsetgroup\":\"45\\u201359\",\"orientation\":\"v\",\"showlegend\":true,\"textposition\":\"auto\",\"x\":[\"100K+\",\"25\\u201350K\",\"50\\u2013100K\",\"<25K\"],\"xaxis\":\"x\",\"y\":[15.2,23.6,20.3,21.2],\"yaxis\":\"y\",\"type\":\"bar\"},{\"alignmentgroup\":\"True\",\"hovertemplate\":\"age_group=45\\u201359<br>education=Graduate Degree<br>income_group=%{x}<br>usage_rate=%{y}<extra></extra>\",\"legendgroup\":\"45\\u201359\",\"marker\":{\"color\":\"#00cc96\",\"pattern\":{\"shape\":\"\"}},\"name\":\"45\\u201359\",\"offsetgroup\":\"45\\u201359\",\"orientation\":\"v\",\"showlegend\":false,\"textposition\":\"auto\",\"x\":[\"100K+\",\"25\\u201350K\",\"50\\u2013100K\",\"<25K\"],\"xaxis\":\"x2\",\"y\":[9.5,19.7,24.4,7.7],\"yaxis\":\"y2\",\"type\":\"bar\"},{\"alignmentgroup\":\"True\",\"hovertemplate\":\"age_group=45\\u201359<br>education=Some College<br>income_group=%{x}<br>usage_rate=%{y}<extra></extra>\",\"legendgroup\":\"45\\u201359\",\"marker\":{\"color\":\"#00cc96\",\"pattern\":{\"shape\":\"\"}},\"name\":\"45\\u201359\",\"offsetgroup\":\"45\\u201359\",\"orientation\":\"v\",\"showlegend\":false,\"textposition\":\"auto\",\"x\":[\"100K+\",\"25\\u201350K\",\"50\\u2013100K\",\"<25K\"],\"xaxis\":\"x3\",\"y\":[6.8,14.6,9.8,13.5],\"yaxis\":\"y3\",\"type\":\"bar\"},{\"alignmentgroup\":\"True\",\"hovertemplate\":\"age_group=45\\u201359<br>education=High School or Less<br>income_group=%{x}<br>usage_rate=%{y}<extra></extra>\",\"legendgroup\":\"45\\u201359\",\"marker\":{\"color\":\"#00cc96\",\"pattern\":{\"shape\":\"\"}},\"name\":\"45\\u201359\",\"offsetgroup\":\"45\\u201359\",\"orientation\":\"v\",\"showlegend\":false,\"textposition\":\"auto\",\"x\":[\"100K+\",\"25\\u201350K\",\"50\\u2013100K\",\"<25K\"],\"xaxis\":\"x4\",\"y\":[25.0,13.0,0.0,18.9],\"yaxis\":\"y4\",\"type\":\"bar\"},{\"alignmentgroup\":\"True\",\"hovertemplate\":\"age_group=60+<br>education=Bachelor's<br>income_group=%{x}<br>usage_rate=%{y}<extra></extra>\",\"legendgroup\":\"60+\",\"marker\":{\"color\":\"#ab63fa\",\"pattern\":{\"shape\":\"\"}},\"name\":\"60+\",\"offsetgroup\":\"60+\",\"orientation\":\"v\",\"showlegend\":true,\"textposition\":\"auto\",\"x\":[\"100K+\",\"25\\u201350K\",\"50\\u2013100K\",\"<25K\"],\"xaxis\":\"x\",\"y\":[8.1,11.2,8.7,9.1],\"yaxis\":\"y\",\"type\":\"bar\"},{\"alignmentgroup\":\"True\",\"hovertemplate\":\"age_group=60+<br>education=Graduate Degree<br>income_group=%{x}<br>usage_rate=%{y}<extra></extra>\",\"legendgroup\":\"60+\",\"marker\":{\"color\":\"#ab63fa\",\"pattern\":{\"shape\":\"\"}},\"name\":\"60+\",\"offsetgroup\":\"60+\",\"orientation\":\"v\",\"showlegend\":false,\"textposition\":\"auto\",\"x\":[\"100K+\",\"25\\u201350K\",\"50\\u2013100K\",\"<25K\"],\"xaxis\":\"x2\",\"y\":[5.4,6.2,7.2,2.8],\"yaxis\":\"y2\",\"type\":\"bar\"},{\"alignmentgroup\":\"True\",\"hovertemplate\":\"age_group=60+<br>education=Some College<br>income_group=%{x}<br>usage_rate=%{y}<extra></extra>\",\"legendgroup\":\"60+\",\"marker\":{\"color\":\"#ab63fa\",\"pattern\":{\"shape\":\"\"}},\"name\":\"60+\",\"offsetgroup\":\"60+\",\"orientation\":\"v\",\"showlegend\":false,\"textposition\":\"auto\",\"x\":[\"100K+\",\"25\\u201350K\",\"50\\u2013100K\",\"<25K\"],\"xaxis\":\"x3\",\"y\":[11.2,8.0,6.3,11.7],\"yaxis\":\"y3\",\"type\":\"bar\"},{\"alignmentgroup\":\"True\",\"hovertemplate\":\"age_group=60+<br>education=High School or Less<br>income_group=%{x}<br>usage_rate=%{y}<extra></extra>\",\"legendgroup\":\"60+\",\"marker\":{\"color\":\"#ab63fa\",\"pattern\":{\"shape\":\"\"}},\"name\":\"60+\",\"offsetgroup\":\"60+\",\"orientation\":\"v\",\"showlegend\":false,\"textposition\":\"auto\",\"x\":[\"100K+\",\"25\\u201350K\",\"50\\u2013100K\",\"<25K\"],\"xaxis\":\"x4\",\"y\":[0.0,8.8,12.8,11.4],\"yaxis\":\"y4\",\"type\":\"bar\"}],                        {\"template\":{\"data\":{\"histogram2dcontour\":[{\"type\":\"histogram2dcontour\",\"colorbar\":{\"outlinewidth\":0,\"ticks\":\"\"},\"colorscale\":[[0.0,\"#0d0887\"],[0.1111111111111111,\"#46039f\"],[0.2222222222222222,\"#7201a8\"],[0.3333333333333333,\"#9c179e\"],[0.4444444444444444,\"#bd3786\"],[0.5555555555555556,\"#d8576b\"],[0.6666666666666666,\"#ed7953\"],[0.7777777777777778,\"#fb9f3a\"],[0.8888888888888888,\"#fdca26\"],[1.0,\"#f0f921\"]]}],\"choropleth\":[{\"type\":\"choropleth\",\"colorbar\":{\"outlinewidth\":0,\"ticks\":\"\"}}],\"histogram2d\":[{\"type\":\"histogram2d\",\"colorbar\":{\"outlinewidth\":0,\"ticks\":\"\"},\"colorscale\":[[0.0,\"#0d0887\"],[0.1111111111111111,\"#46039f\"],[0.2222222222222222,\"#7201a8\"],[0.3333333333333333,\"#9c179e\"],[0.4444444444444444,\"#bd3786\"],[0.5555555555555556,\"#d8576b\"],[0.6666666666666666,\"#ed7953\"],[0.7777777777777778,\"#fb9f3a\"],[0.8888888888888888,\"#fdca26\"],[1.0,\"#f0f921\"]]}],\"heatmap\":[{\"type\":\"heatmap\",\"colorbar\":{\"outlinewidth\":0,\"ticks\":\"\"},\"colorscale\":[[0.0,\"#0d0887\"],[0.1111111111111111,\"#46039f\"],[0.2222222222222222,\"#7201a8\"],[0.3333333333333333,\"#9c179e\"],[0.4444444444444444,\"#bd3786\"],[0.5555555555555556,\"#d8576b\"],[0.6666666666666666,\"#ed7953\"],[0.7777777777777778,\"#fb9f3a\"],[0.8888888888888888,\"#fdca26\"],[1.0,\"#f0f921\"]]}],\"heatmapgl\":[{\"type\":\"heatmapgl\",\"colorbar\":{\"outlinewidth\":0,\"ticks\":\"\"},\"colorscale\":[[0.0,\"#0d0887\"],[0.1111111111111111,\"#46039f\"],[0.2222222222222222,\"#7201a8\"],[0.3333333333333333,\"#9c179e\"],[0.4444444444444444,\"#bd3786\"],[0.5555555555555556,\"#d8576b\"],[0.6666666666666666,\"#ed7953\"],[0.7777777777777778,\"#fb9f3a\"],[0.8888888888888888,\"#fdca26\"],[1.0,\"#f0f921\"]]}],\"contourcarpet\":[{\"type\":\"contourcarpet\",\"colorbar\":{\"outlinewidth\":0,\"ticks\":\"\"}}],\"contour\":[{\"type\":\"contour\",\"colorbar\":{\"outlinewidth\":0,\"ticks\":\"\"},\"colorscale\":[[0.0,\"#0d0887\"],[0.1111111111111111,\"#46039f\"],[0.2222222222222222,\"#7201a8\"],[0.3333333333333333,\"#9c179e\"],[0.4444444444444444,\"#bd3786\"],[0.5555555555555556,\"#d8576b\"],[0.6666666666666666,\"#ed7953\"],[0.7777777777777778,\"#fb9f3a\"],[0.8888888888888888,\"#fdca26\"],[1.0,\"#f0f921\"]]}],\"surface\":[{\"type\":\"surface\",\"colorbar\":{\"outlinewidth\":0,\"ticks\":\"\"},\"colorscale\":[[0.0,\"#0d0887\"],[0.1111111111111111,\"#46039f\"],[0.2222222222222222,\"#7201a8\"],[0.3333333333333333,\"#9c179e\"],[0.4444444444444444,\"#bd3786\"],[0.5555555555555556,\"#d8576b\"],[0.6666666666666666,\"#ed7953\"],[0.7777777777777778,\"#fb9f3a\"],[0.8888888888888888,\"#fdca26\"],[1.0,\"#f0f921\"]]}],\"mesh3d\":[{\"type\":\"mesh3d\",\"colorbar\":{\"outlinewidth\":0,\"ticks\":\"\"}}],\"scatter\":[{\"fillpattern\":{\"fillmode\":\"overlay\",\"size\":10,\"solidity\":0.2},\"type\":\"scatter\"}],\"parcoords\":[{\"type\":\"parcoords\",\"line\":{\"colorbar\":{\"outlinewidth\":0,\"ticks\":\"\"}}}],\"scatterpolargl\":[{\"type\":\"scatterpolargl\",\"marker\":{\"colorbar\":{\"outlinewidth\":0,\"ticks\":\"\"}}}],\"bar\":[{\"error_x\":{\"color\":\"#2a3f5f\"},\"error_y\":{\"color\":\"#2a3f5f\"},\"marker\":{\"line\":{\"color\":\"#E5ECF6\",\"width\":0.5},\"pattern\":{\"fillmode\":\"overlay\",\"size\":10,\"solidity\":0.2}},\"type\":\"bar\"}],\"scattergeo\":[{\"type\":\"scattergeo\",\"marker\":{\"colorbar\":{\"outlinewidth\":0,\"ticks\":\"\"}}}],\"scatterpolar\":[{\"type\":\"scatterpolar\",\"marker\":{\"colorbar\":{\"outlinewidth\":0,\"ticks\":\"\"}}}],\"histogram\":[{\"marker\":{\"pattern\":{\"fillmode\":\"overlay\",\"size\":10,\"solidity\":0.2}},\"type\":\"histogram\"}],\"scattergl\":[{\"type\":\"scattergl\",\"marker\":{\"colorbar\":{\"outlinewidth\":0,\"ticks\":\"\"}}}],\"scatter3d\":[{\"type\":\"scatter3d\",\"line\":{\"colorbar\":{\"outlinewidth\":0,\"ticks\":\"\"}},\"marker\":{\"colorbar\":{\"outlinewidth\":0,\"ticks\":\"\"}}}],\"scattermapbox\":[{\"type\":\"scattermapbox\",\"marker\":{\"colorbar\":{\"outlinewidth\":0,\"ticks\":\"\"}}}],\"scatterternary\":[{\"type\":\"scatterternary\",\"marker\":{\"colorbar\":{\"outlinewidth\":0,\"ticks\":\"\"}}}],\"scattercarpet\":[{\"type\":\"scattercarpet\",\"marker\":{\"colorbar\":{\"outlinewidth\":0,\"ticks\":\"\"}}}],\"carpet\":[{\"aaxis\":{\"endlinecolor\":\"#2a3f5f\",\"gridcolor\":\"white\",\"linecolor\":\"white\",\"minorgridcolor\":\"white\",\"startlinecolor\":\"#2a3f5f\"},\"baxis\":{\"endlinecolor\":\"#2a3f5f\",\"gridcolor\":\"white\",\"linecolor\":\"white\",\"minorgridcolor\":\"white\",\"startlinecolor\":\"#2a3f5f\"},\"type\":\"carpet\"}],\"table\":[{\"cells\":{\"fill\":{\"color\":\"#EBF0F8\"},\"line\":{\"color\":\"white\"}},\"header\":{\"fill\":{\"color\":\"#C8D4E3\"},\"line\":{\"color\":\"white\"}},\"type\":\"table\"}],\"barpolar\":[{\"marker\":{\"line\":{\"color\":\"#E5ECF6\",\"width\":0.5},\"pattern\":{\"fillmode\":\"overlay\",\"size\":10,\"solidity\":0.2}},\"type\":\"barpolar\"}],\"pie\":[{\"automargin\":true,\"type\":\"pie\"}]},\"layout\":{\"autotypenumbers\":\"strict\",\"colorway\":[\"#636efa\",\"#EF553B\",\"#00cc96\",\"#ab63fa\",\"#FFA15A\",\"#19d3f3\",\"#FF6692\",\"#B6E880\",\"#FF97FF\",\"#FECB52\"],\"font\":{\"color\":\"#2a3f5f\"},\"hovermode\":\"closest\",\"hoverlabel\":{\"align\":\"left\"},\"paper_bgcolor\":\"white\",\"plot_bgcolor\":\"#E5ECF6\",\"polar\":{\"bgcolor\":\"#E5ECF6\",\"angularaxis\":{\"gridcolor\":\"white\",\"linecolor\":\"white\",\"ticks\":\"\"},\"radialaxis\":{\"gridcolor\":\"white\",\"linecolor\":\"white\",\"ticks\":\"\"}},\"ternary\":{\"bgcolor\":\"#E5ECF6\",\"aaxis\":{\"gridcolor\":\"white\",\"linecolor\":\"white\",\"ticks\":\"\"},\"baxis\":{\"gridcolor\":\"white\",\"linecolor\":\"white\",\"ticks\":\"\"},\"caxis\":{\"gridcolor\":\"white\",\"linecolor\":\"white\",\"ticks\":\"\"}},\"coloraxis\":{\"colorbar\":{\"outlinewidth\":0,\"ticks\":\"\"}},\"colorscale\":{\"sequential\":[[0.0,\"#0d0887\"],[0.1111111111111111,\"#46039f\"],[0.2222222222222222,\"#7201a8\"],[0.3333333333333333,\"#9c179e\"],[0.4444444444444444,\"#bd3786\"],[0.5555555555555556,\"#d8576b\"],[0.6666666666666666,\"#ed7953\"],[0.7777777777777778,\"#fb9f3a\"],[0.8888888888888888,\"#fdca26\"],[1.0,\"#f0f921\"]],\"sequentialminus\":[[0.0,\"#0d0887\"],[0.1111111111111111,\"#46039f\"],[0.2222222222222222,\"#7201a8\"],[0.3333333333333333,\"#9c179e\"],[0.4444444444444444,\"#bd3786\"],[0.5555555555555556,\"#d8576b\"],[0.6666666666666666,\"#ed7953\"],[0.7777777777777778,\"#fb9f3a\"],[0.8888888888888888,\"#fdca26\"],[1.0,\"#f0f921\"]],\"diverging\":[[0,\"#8e0152\"],[0.1,\"#c51b7d\"],[0.2,\"#de77ae\"],[0.3,\"#f1b6da\"],[0.4,\"#fde0ef\"],[0.5,\"#f7f7f7\"],[0.6,\"#e6f5d0\"],[0.7,\"#b8e186\"],[0.8,\"#7fbc41\"],[0.9,\"#4d9221\"],[1,\"#276419\"]]},\"xaxis\":{\"gridcolor\":\"white\",\"linecolor\":\"white\",\"ticks\":\"\",\"title\":{\"standoff\":15},\"zerolinecolor\":\"white\",\"automargin\":true,\"zerolinewidth\":2},\"yaxis\":{\"gridcolor\":\"white\",\"linecolor\":\"white\",\"ticks\":\"\",\"title\":{\"standoff\":15},\"zerolinecolor\":\"white\",\"automargin\":true,\"zerolinewidth\":2},\"scene\":{\"xaxis\":{\"backgroundcolor\":\"#E5ECF6\",\"gridcolor\":\"white\",\"linecolor\":\"white\",\"showbackground\":true,\"ticks\":\"\",\"zerolinecolor\":\"white\",\"gridwidth\":2},\"yaxis\":{\"backgroundcolor\":\"#E5ECF6\",\"gridcolor\":\"white\",\"linecolor\":\"white\",\"showbackground\":true,\"ticks\":\"\",\"zerolinecolor\":\"white\",\"gridwidth\":2},\"zaxis\":{\"backgroundcolor\":\"#E5ECF6\",\"gridcolor\":\"white\",\"linecolor\":\"white\",\"showbackground\":true,\"ticks\":\"\",\"zerolinecolor\":\"white\",\"gridwidth\":2}},\"shapedefaults\":{\"line\":{\"color\":\"#2a3f5f\"}},\"annotationdefaults\":{\"arrowcolor\":\"#2a3f5f\",\"arrowhead\":0,\"arrowwidth\":1},\"geo\":{\"bgcolor\":\"white\",\"landcolor\":\"#E5ECF6\",\"subunitcolor\":\"white\",\"showland\":true,\"showlakes\":true,\"lakecolor\":\"white\"},\"title\":{\"x\":0.05},\"mapbox\":{\"style\":\"light\"}}},\"xaxis\":{\"anchor\":\"y\",\"domain\":[0.0,0.235],\"title\":{\"text\":\"income_group\"}},\"yaxis\":{\"anchor\":\"x\",\"domain\":[0.0,1.0],\"title\":{\"text\":\"usage_rate\"}},\"xaxis2\":{\"anchor\":\"y2\",\"domain\":[0.255,0.49],\"matches\":\"x\",\"title\":{\"text\":\"income_group\"}},\"yaxis2\":{\"anchor\":\"x2\",\"domain\":[0.0,1.0],\"matches\":\"y\",\"showticklabels\":false},\"xaxis3\":{\"anchor\":\"y3\",\"domain\":[0.51,0.745],\"matches\":\"x\",\"title\":{\"text\":\"income_group\"}},\"yaxis3\":{\"anchor\":\"x3\",\"domain\":[0.0,1.0],\"matches\":\"y\",\"showticklabels\":false},\"xaxis4\":{\"anchor\":\"y4\",\"domain\":[0.7649999999999999,0.9999999999999999],\"matches\":\"x\",\"title\":{\"text\":\"income_group\"}},\"yaxis4\":{\"anchor\":\"x4\",\"domain\":[0.0,1.0],\"matches\":\"y\",\"showticklabels\":false},\"annotations\":[{\"font\":{},\"showarrow\":false,\"text\":\"education=Bachelor's\",\"x\":0.1175,\"xanchor\":\"center\",\"xref\":\"paper\",\"y\":1.0,\"yanchor\":\"bottom\",\"yref\":\"paper\"},{\"font\":{},\"showarrow\":false,\"text\":\"education=Graduate Degree\",\"x\":0.3725,\"xanchor\":\"center\",\"xref\":\"paper\",\"y\":1.0,\"yanchor\":\"bottom\",\"yref\":\"paper\"},{\"font\":{},\"showarrow\":false,\"text\":\"education=Some College\",\"x\":0.6275,\"xanchor\":\"center\",\"xref\":\"paper\",\"y\":1.0,\"yanchor\":\"bottom\",\"yref\":\"paper\"},{\"font\":{},\"showarrow\":false,\"text\":\"education=High School or Less\",\"x\":0.8824999999999998,\"xanchor\":\"center\",\"xref\":\"paper\",\"y\":1.0,\"yanchor\":\"bottom\",\"yref\":\"paper\"}],\"legend\":{\"title\":{\"text\":\"age_group\"},\"tracegroupgap\":0},\"title\":{\"text\":\"BNPL Usage by Age, Income, and Education\"},\"barmode\":\"group\"},                        {\"responsive\": true}                    ).then(function(){\n",
       "                            \n",
       "var gd = document.getElementById('85555ccc-68bc-4201-9ea3-e2efcfc6b552');\n",
       "var x = new MutationObserver(function (mutations, observer) {{\n",
       "        var display = window.getComputedStyle(gd).display;\n",
       "        if (!display || display === 'none') {{\n",
       "            console.log([gd, 'removed!']);\n",
       "            Plotly.purge(gd);\n",
       "            observer.disconnect();\n",
       "        }}\n",
       "}});\n",
       "\n",
       "// Listen for the removal of the full notebook cells\n",
       "var notebookContainer = gd.closest('#notebook-container');\n",
       "if (notebookContainer) {{\n",
       "    x.observe(notebookContainer, {childList: true});\n",
       "}}\n",
       "\n",
       "// Listen for the clearing of the current output cell\n",
       "var outputEl = gd.closest('.output');\n",
       "if (outputEl) {{\n",
       "    x.observe(outputEl, {childList: true});\n",
       "}}\n",
       "\n",
       "                        })                };                });            </script>        </div>"
      ]
     },
     "metadata": {},
     "output_type": "display_data"
    }
   ],
   "source": [
    "import plotly.express as px\n",
    "fig = px.bar(\n",
    "    summary,\n",
    "    x=\"income_group\", y=\"usage_rate\",\n",
    "    color=\"age_group\",\n",
    "    facet_col=\"education\",\n",
    "    barmode=\"group\",\n",
    "    title=\"BNPL Usage by Age, Income, and Education\"\n",
    ")\n",
    "fig.show()\n"
   ]
  },
  {
   "cell_type": "code",
   "execution_count": 104,
   "id": "1dfc5f3c-45be-4bed-ae99-cb894f580b7b",
   "metadata": {},
   "outputs": [
    {
     "name": "stdout",
     "output_type": "stream",
     "text": [
      "Optimization terminated successfully.\n",
      "         Current function value: 0.369471\n",
      "         Iterations 6\n",
      "                           Logit Regression Results                           \n",
      "==============================================================================\n",
      "Dep. Variable:              used_bnpl   No. Observations:                11400\n",
      "Model:                          Logit   Df Residuals:                    11390\n",
      "Method:                           MLE   Df Model:                            9\n",
      "Date:                Thu, 24 Apr 2025   Pseudo R-squ.:                 0.03244\n",
      "Time:                        18:08:23   Log-Likelihood:                -4212.0\n",
      "converged:                       True   LL-Null:                       -4353.2\n",
      "Covariance Type:            nonrobust   LLR p-value:                 1.369e-55\n",
      "=======================================================================================================\n",
      "                                          coef    std err          z      P>|z|      [0.025      0.975]\n",
      "-------------------------------------------------------------------------------------------------------\n",
      "Intercept                              -1.6745      0.102    -16.424      0.000      -1.874      -1.475\n",
      "C(age_group)[T.30–44]                   0.0623      0.087      0.718      0.473      -0.108       0.232\n",
      "C(age_group)[T.45–59]                  -0.0779      0.089     -0.871      0.384      -0.253       0.097\n",
      "C(age_group)[T.60+]                    -0.8486      0.089     -9.548      0.000      -1.023      -0.674\n",
      "C(income_group)[T.25–50K]               0.5477      0.089      6.161      0.000       0.373       0.722\n",
      "C(income_group)[T.50–100K]              0.3799      0.077      4.948      0.000       0.229       0.530\n",
      "C(income_group)[T.<25K]                 0.1469      0.099      1.485      0.138      -0.047       0.341\n",
      "C(education)[T.Graduate Degree]        -0.4081      0.070     -5.835      0.000      -0.545      -0.271\n",
      "C(education)[T.High School or Less]    -0.1069      0.133     -0.806      0.420      -0.367       0.153\n",
      "C(education)[T.Some College]           -0.3019      0.081     -3.743      0.000      -0.460      -0.144\n",
      "=======================================================================================================\n"
     ]
    }
   ],
   "source": [
    "import statsmodels.formula.api as smf\n",
    "\n",
    "# C() treats categorical variables properly\n",
    "model = smf.logit(\n",
    "    formula=\"used_bnpl ~ C(age_group) + C(income_group) + C(education)\", \n",
    "    data=df\n",
    ").fit()\n",
    "\n",
    "print(model.summary())\n"
   ]
  },
  {
   "cell_type": "markdown",
   "id": "12f8ee65-e21c-44fc-b455-68e498b7e680",
   "metadata": {},
   "source": [
    "### BNPL Usage: Who’s Most Likely to Use It?\n",
    "Using data from 11,400 respondents in the Federal Reserve’s SHED survey, we ran a logistic regression to predict who is more or less likely to use Buy Now, Pay Later (BNPL) services. The model shows that BNPL usage is most common among middle-income adults under 60 with a Bachelor’s degree. In contrast, older individuals (60+) and those with Graduate degrees are significantly less likely to use BNPL, highlighting a potential generational and cultural divide in fintech adoption."
   ]
  },
  {
   "cell_type": "code",
   "execution_count": 109,
   "id": "db6f6f9a-5136-4169-aee7-51636646b163",
   "metadata": {},
   "outputs": [
    {
     "name": "stdout",
     "output_type": "stream",
     "text": [
      "                               Variable        VIF\n",
      "0                             Intercept  15.710391\n",
      "1                 C(age_group)[T.30–44]   2.063665\n",
      "2                 C(age_group)[T.45–59]   2.161909\n",
      "3                   C(age_group)[T.60+]   2.740346\n",
      "4             C(income_group)[T.25–50K]   1.489196\n",
      "5            C(income_group)[T.50–100K]   1.429209\n",
      "6               C(income_group)[T.<25K]   1.875847\n",
      "7       C(education)[T.Graduate Degree]   1.515825\n",
      "8   C(education)[T.High School or Less]   1.172601\n",
      "9          C(education)[T.Some College]   1.300496\n",
      "10                     C(ppgender)[T.2]   1.036761\n",
      "11                     C(ppemploy)[T.2]   1.252705\n",
      "12                     C(ppemploy)[T.3]   1.729219\n",
      "13                      C(ppracem)[T.2]   1.045744\n",
      "14                      C(ppracem)[T.3]   1.017433\n",
      "15                      C(ppracem)[T.4]   1.039117\n",
      "16                      C(ppracem)[T.5]   1.001454\n",
      "17                      C(ppracem)[T.6]   1.020430\n",
      "18                     C(pphispan)[T.2]   1.059234\n",
      "19                     C(pphispan)[T.3]   1.008157\n",
      "20                     C(pphispan)[T.4]   1.002544\n",
      "21                     C(pphispan)[T.8]   1.017742\n"
     ]
    }
   ],
   "source": [
    "#Checking for Multicollinearnity\n",
    "from statsmodels.stats.outliers_influence import variance_inflation_factor\n",
    "from patsy import dmatrices\n",
    "\n",
    "y, X = dmatrices(\"\"\"\n",
    "    used_bnpl ~ C(age_group) + C(income_group) + C(education)\n",
    "                + C(ppgender) + C(ppemploy) + C(ppracem) + C(pphispan)\n",
    "\"\"\", data=df, return_type='dataframe')\n",
    "\n",
    "vif = pd.DataFrame()\n",
    "vif[\"Variable\"] = X.columns\n",
    "vif[\"VIF\"] = [variance_inflation_factor(X.values, i) for i in range(X.shape[1])]\n",
    "print(vif)\n"
   ]
  },
  {
   "cell_type": "markdown",
   "id": "170fb15b-b486-48eb-8a80-4c69a508b585",
   "metadata": {},
   "source": [
    "### Multicollinearity Check: VIF Interpretation\n",
    "\n",
    "To assess multicollinearity in the logistic regression model, we calculated Variance Inflation Factors (VIF) for all predictor variables.\n",
    "\n",
    "#### What is VIF?\n",
    "- VIF measures how much a predictor variable is correlated with other predictors in the model.\n",
    "- A **VIF > 5** usually signals a multicollinearity issue.\n",
    "- A **VIF < 3** is generally considered safe.\n",
    "\n",
    "#### Summary of Findings:\n",
    "- All predictor variables had **VIFs well below 3**, with most ranging from **1.0 to 2.7**.\n",
    "- The only high VIF (15.7) appeared on the **Intercept**, which is expected due to dummy coding.\n",
    "  \n",
    "#### Conclusion:\n",
    "- **There is no evidence of multicollinearity** in the model.\n",
    "- We can confidently interpret the effects of age, income, education, gender, employment, race, and ethnicity on BNPL usage.\n",
    "\n"
   ]
  },
  {
   "cell_type": "code",
   "execution_count": 117,
   "id": "30445e30-3692-45e1-8964-6bf30483b6da",
   "metadata": {},
   "outputs": [
    {
     "name": "stdout",
     "output_type": "stream",
     "text": [
      "        Logit Marginal Effects       \n",
      "=====================================\n",
      "Dep. Variable:              used_bnpl\n",
      "Method:                          dydx\n",
      "At:                           overall\n",
      "=======================================================================================================\n",
      "                                         dy/dx    std err          z      P>|z|      [0.025      0.975]\n",
      "-------------------------------------------------------------------------------------------------------\n",
      "C(age_group)[T.30–44]                   0.0068      0.009      0.718      0.473      -0.012       0.025\n",
      "C(age_group)[T.45–59]                  -0.0085      0.010     -0.871      0.384      -0.027       0.011\n",
      "C(age_group)[T.60+]                    -0.0921      0.010     -9.519      0.000      -0.111      -0.073\n",
      "C(income_group)[T.25–50K]               0.0595      0.010      6.159      0.000       0.041       0.078\n",
      "C(income_group)[T.50–100K]              0.0412      0.008      4.945      0.000       0.025       0.058\n",
      "C(income_group)[T.<25K]                 0.0160      0.011      1.485      0.138      -0.005       0.037\n",
      "C(education)[T.Graduate Degree]        -0.0443      0.008     -5.834      0.000      -0.059      -0.029\n",
      "C(education)[T.High School or Less]    -0.0116      0.014     -0.806      0.420      -0.040       0.017\n",
      "C(education)[T.Some College]           -0.0328      0.009     -3.743      0.000      -0.050      -0.016\n",
      "=======================================================================================================\n"
     ]
    }
   ],
   "source": [
    "# Marginal Effects\n",
    "mfx = model.get_margeff()\n",
    "print(mfx.summary())"
   ]
  },
  {
   "cell_type": "code",
   "execution_count": 59,
   "id": "25bb05a5-b6c2-4c37-a545-0781fe43560e",
   "metadata": {},
   "outputs": [
    {
     "data": {
      "image/png": "[encoded data removed]",
      "text/plain": [
       "<Figure size 640x480 with 2 Axes>"
      ]
     },
     "metadata": {},
     "output_type": "display_data"
    }
   ],
   "source": [
    "#Preciting Probablities\n",
    "import seaborn as sns\n",
    "import matplotlib.pyplot as plt\n",
    "\n",
    "pivot_data = grouped.pivot(index='age_group', columns='income_group', values='predicted_prob')\n",
    "\n",
    "sns.heatmap(pivot_data, annot=True, fmt=\".2f\", cmap=\"YlOrRd\")\n",
    "plt.title(\"Predicted Probability of BNPL Use by Age and Income\")\n",
    "plt.xlabel(\"Income Group\")\n",
    "plt.ylabel(\"Age Group\")\n",
    "plt.tight_layout()\n",
    "plt.show()\n"
   ]
  },
  {
   "cell_type": "code",
   "execution_count": 63,
   "id": "4d7ff582-b428-4d97-8211-32994d0642e0",
   "metadata": {},
   "outputs": [],
   "source": [
    "df['predicted_prob'] = model.predict()\n",
    "grouped = df.groupby(['age_group', 'income_group'])['predicted_prob'].mean().round(2).reset_index()"
   ]
  },
  {
   "cell_type": "markdown",
   "id": "df7bfb41-b75f-42f0-8042-df2744889db8",
   "metadata": {},
   "source": [
    "### Predicted Probability of BNPL Use by Age and Income\n",
    "\n",
    "The heatmap below illustrates the predicted probability of using Buy Now, Pay Later (BNPL) services based on a respondent’s age group and income bracket. These probabilities are derived from a logistic regression model.\n",
    "\n",
    "#### Key Takeaways:\n",
    "\n",
    "- **Peak BNPL usage is among adults aged 30–44 earning $25K–50K**, with a predicted probability of **0.22**.\n",
    "- BNPL usage tends to **decrease with age**, especially for those aged 60+, regardless of income.\n",
    "- Across age groups, **middle-income earners ($25K–50K)** consistently show the **highest predicted usage rates**.\n",
    "- High-income individuals ($100K+) across all age brackets are **less likely to use BNPL**, with probabilities around **0.12 or lower**.\n",
    "\n",
    "#### Interpretation:\n",
    "\n",
    "This pattern suggests that BNPL adoption is strongest among younger and middle-aged adults who fall within moderate income brackets. This may reflect greater familiarity with fintech products, combined with limited access to traditional credit or the desire for short-term liquidity.\n",
    "\n"
   ]
  },
  {
   "cell_type": "code",
   "execution_count": null,
   "id": "b7829f5a-53cc-4138-a85b-e2afd0199d0b",
   "metadata": {},
   "outputs": [],
   "source": []
  },
  {
   "cell_type": "markdown",
   "id": "688ad51c-5a6b-48e8-a5ef-7de983ad1716",
   "metadata": {},
   "source": [
    "## 📌 Key Takeaways\n",
    "- Older adults (60+) are significantly less likely to use BNPL services.\n",
    "- Mid-income groups ($25K–100K) are the most frequent BNPL users.\n",
    "- Bachelor's degree holders show the highest usage across education levels.\n"
   ]
  }
 ],
 "metadata": {
  "kernelspec": {
   "display_name": "Python [conda env:base] *",
   "language": "python",
   "name": "conda-base-py"
  },
  "language_info": {
   "codemirror_mode": {
    "name": "ipython",
    "version": 3
   },
   "file_extension": ".py",
   "mimetype": "text/x-python",
   "name": "python",
   "nbconvert_exporter": "python",
   "pygments_lexer": "ipython3",
   "version": "3.11.5"
  }
 },
 "nbformat": 4,
 "nbformat_minor": 5
}
